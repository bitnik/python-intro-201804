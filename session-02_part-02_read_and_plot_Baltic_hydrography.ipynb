{
 "cells": [
  {
   "cell_type": "markdown",
   "metadata": {},
   "source": [
    "# Real-world example: load and plot netCDF data\n",
    "\n",
    "We'll briefly introduce the use of the [`netCDF4` package](http://unidata.github.io/netcdf4-python/) and apply python, numpy and matplotlib knowledge from the basic session.\n",
    "\n",
    "_But note that most of the handling of the meta-data and explicit handling of dimensions and shapes we do here is automatically handled by Xarray (see the next two parts of this session).  So this is meant to show you how to get to the nuts and bolts in case the more convenient workflow presented later runs into problems._"
   ]
  },
  {
   "cell_type": "code",
   "execution_count": 1,
   "metadata": {
    "collapsed": true
   },
   "outputs": [],
   "source": [
    "%reset -f\n",
    "%matplotlib inline\n",
    "import matplotlib.pyplot as plt\n",
    "import netCDF4 as  netcdf\n",
    "import numpy as np"
   ]
  },
  {
   "cell_type": "markdown",
   "metadata": {},
   "source": [
    "## Open and prepare the dataset\n",
    "\n",
    "We'll open a data file, have a look at the included variables and dimensions, read the time-axis into an object that is aware of the dates and organize everything in a dictionary that is easier to use than the raw netCDF4 dataset."
   ]
  },
  {
   "cell_type": "code",
   "execution_count": 2,
   "metadata": {},
   "outputs": [],
   "source": [
    "# open netCDF dataset\n",
    "ncid = netcdf.Dataset('./data/baltic_hydrography/INSPIRE_1979_2016_annual_oce_surf_and_bottom_hydrograhy.nc')"
   ]
  },
  {
   "cell_type": "code",
   "execution_count": 3,
   "metadata": {},
   "outputs": [
    {
     "name": "stdout",
     "output_type": "stream",
     "text": [
      "odict_keys(['lon', 'lat', 'BTEMP', 'SSS', 'BSALT', 'SST', 'time'])\n"
     ]
    }
   ],
   "source": [
    "# example: load a specific variable from the netCDF dataset\n",
    "print(ncid.variables.keys())\n",
    "lon = ncid.variables['lon'][:]"
   ]
  },
  {
   "cell_type": "code",
   "execution_count": 4,
   "metadata": {},
   "outputs": [],
   "source": [
    "# more useful: choose to load every variable into an empty dictionary\n",
    "data = {key: ncid.variables[key][:] for key in ncid.variables.keys()}"
   ]
  },
  {
   "cell_type": "markdown",
   "metadata": {},
   "source": [
    "The time variable does not know that it's representing dates:"
   ]
  },
  {
   "cell_type": "code",
   "execution_count": 5,
   "metadata": {},
   "outputs": [
    {
     "name": "stdout",
     "output_type": "stream",
     "text": [
      "<class 'netCDF4._netCDF4.Variable'>\n",
      "int32 time(time)\n",
      "    units: days since 1979-12-31 00:00:00\n",
      "    calendar: proleptic_gregorian\n",
      "unlimited dimensions: \n",
      "current shape = (38,)\n",
      "filling on, default _FillValue of -2147483647 used\n",
      "\n",
      "[    0   366   731  1096  1461  1827  2192  2557  2922  3288  3653  4018\n",
      "  4383  4749  5114  5479  5844  6210  6575  6940  7305  7671  8036  8401\n",
      "  8766  9132  9497  9862 10227 10593 10958 11323 11688 12054 12419 12784\n",
      " 13149 13515]\n"
     ]
    }
   ],
   "source": [
    "print(ncid.variables['time'])\n",
    "print(ncid.variables['time'][:])"
   ]
  },
  {
   "cell_type": "markdown",
   "metadata": {},
   "source": [
    "netCDF4 provides a conversion function that understands most calendars and time units:"
   ]
  },
  {
   "cell_type": "code",
   "execution_count": 6,
   "metadata": {},
   "outputs": [],
   "source": [
    "data['date'] = netcdf.num2date(data['time'], units=ncid.variables['time'].units,\n",
    "                               calendar=ncid.variables['time'].calendar)"
   ]
  },
  {
   "cell_type": "code",
   "execution_count": 7,
   "metadata": {},
   "outputs": [],
   "source": [
    "# close netCDF dataset\n",
    "ncid.close()"
   ]
  },
  {
   "cell_type": "markdown",
   "metadata": {},
   "source": [
    "## Inspect the data"
   ]
  },
  {
   "cell_type": "code",
   "execution_count": 8,
   "metadata": {},
   "outputs": [
    {
     "name": "stdout",
     "output_type": "stream",
     "text": [
      "dict_keys(['lon', 'lat', 'BTEMP', 'SSS', 'BSALT', 'SST', 'time', 'date'])\n"
     ]
    }
   ],
   "source": [
    "# lists entries in data dictionary\n",
    "print(data.keys())"
   ]
  },
  {
   "cell_type": "code",
   "execution_count": 9,
   "metadata": {},
   "outputs": [
    {
     "name": "stdout",
     "output_type": "stream",
     "text": [
      "Variable   Type       Data/Info\n",
      "-------------------------------\n",
      "data       dict       n=8\n",
      "lon        ndarray    586: 586 elems, type `float32`, 2344 bytes\n",
      "ncid       Dataset    <object with id 139885950958472 (str() failed)>\n",
      "netcdf     module     <module 'netCDF4' from '/<...>ges/netCDF4/__init__.py'>\n",
      "np         module     <module 'numpy' from '/ho<...>kages/numpy/__init__.py'>\n",
      "plt        module     <module 'matplotlib.pyplo<...>es/matplotlib/pyplot.py'>\n"
     ]
    }
   ],
   "source": [
    "# getting an overview, print namespace with minimal formatting\n",
    "%whos"
   ]
  },
  {
   "cell_type": "markdown",
   "metadata": {},
   "source": [
    "## And plot"
   ]
  },
  {
   "cell_type": "code",
   "execution_count": 10,
   "metadata": {},
   "outputs": [
    {
     "data": {
      "image/png": "[encoded data removed]",
      "text/plain": [
       "<Figure size 432x288 with 2 Axes>"
      ]
     },
     "metadata": {},
     "output_type": "display_data"
    }
   ],
   "source": [
    "# first glance at data e.g. sea-surface temperature\n",
    "\n",
    "ti = 10 # arbitrary temporal index\n",
    "\n",
    "plt.figure()\n",
    "plt.contourf(data['lon'][:], data['lat'][:], data['SST'][ti,:,:])\n",
    "\n",
    "plt.colorbar()\n",
    "\n",
    "plt.xlabel('longitude in °E')\n",
    "plt.ylabel('latitude in °N')\n",
    "\n",
    "plt.title('sea-surface temperate at ' + str(data['date'][ti]));"
   ]
  },
  {
   "cell_type": "markdown",
   "metadata": {},
   "source": [
    "## A more specific task: Restricting data to a region of interest"
   ]
  },
  {
   "cell_type": "markdown",
   "metadata": {},
   "source": [
    "We want to look at timeseries from the bottom of the deepest parts of the Gotland Basin.  But we do not have any depth info in the dataset.\n",
    "\n",
    "Luckily, we know that down there, temperature variations are damped compared to the shallower parts of the Baltic Sea.  And we know where approximately the Gotland Basin is."
   ]
  },
  {
   "cell_type": "code",
   "execution_count": 11,
   "metadata": {},
   "outputs": [],
   "source": [
    "# Create a mask that is only true where the amplitude of the bottom temperature is below 0.3 K.\n",
    "mask2d = (np.std(data['BTEMP'][...], axis=0).data < 0.30)\n",
    "\n",
    "# limit values to the Gotland Basin ...\n",
    "mask2d = mask2d * (data['lat'][...][:, np.newaxis] < 59.5)\n",
    "mask2d = mask2d * (data['lon'][...][np.newaxis, :] < 22.0)"
   ]
  },
  {
   "cell_type": "code",
   "execution_count": 12,
   "metadata": {},
   "outputs": [
    {
     "data": {
      "image/png": "[encoded data removed]",
      "text/plain": [
       "<Figure size 432x288 with 2 Axes>"
      ]
     },
     "metadata": {},
     "output_type": "display_data"
    }
   ],
   "source": [
    "plt.figure() \n",
    "\n",
    "plt.contourf(data['lon'], data['lat'], np.std(data['BTEMP'], axis=0))\n",
    "\n",
    "plt.colorbar()\n",
    "\n",
    "plt.contour(data['lon'], data['lat'], mask2d, colors='w')\n",
    "\n",
    "plt.ylabel('latitude in °N')\n",
    "plt.xlabel('longitude in °E')\n",
    "plt.grid();"
   ]
  },
  {
   "cell_type": "markdown",
   "metadata": {},
   "source": [
    "Now, mask the data and plot histograms"
   ]
  },
  {
   "cell_type": "code",
   "execution_count": 13,
   "metadata": {},
   "outputs": [
    {
     "name": "stdout",
     "output_type": "stream",
     "text": [
      "(38, 538, 586)\n",
      "(538, 586)\n"
     ]
    }
   ],
   "source": [
    "print(data['BTEMP'].shape)\n",
    "print(mask2d.shape)"
   ]
  },
  {
   "cell_type": "code",
   "execution_count": 14,
   "metadata": {},
   "outputs": [],
   "source": [
    "masked_BTEMP = np.ma.where(mask2d, data['BTEMP'], np.ma.masked)"
   ]
  },
  {
   "cell_type": "code",
   "execution_count": 15,
   "metadata": {},
   "outputs": [
    {
     "data": {
      "image/png": "[encoded data removed]",
      "text/plain": [
       "<Figure size 576x432 with 2 Axes>"
      ]
     },
     "metadata": {},
     "output_type": "display_data"
    }
   ],
   "source": [
    "fig, ax = plt.subplots(2, 1, sharex=True, figsize=(8, 6))\n",
    "\n",
    "ax[0].hist(data['BTEMP'].compressed(), 100);\n",
    "ax[0].set_title('Full basin')\n",
    "ax[0].grid()\n",
    "\n",
    "ax[1].hist(masked_BTEMP.compressed(), 20);\n",
    "ax[1].set_title('deep Gotland Basin')\n",
    "ax[0].grid()\n",
    "\n",
    "ax[1].set_xlabel(\"BTEMP [degC]\");"
   ]
  }
 ],
 "metadata": {
  "kernelspec": {
   "display_name": "Python 3",
   "language": "python",
   "name": "python3"
  },
  "language_info": {
   "codemirror_mode": {
    "name": "ipython",
    "version": 3
   },
   "file_extension": ".py",
   "mimetype": "text/x-python",
   "name": "python",
   "nbconvert_exporter": "python",
   "pygments_lexer": "ipython3",
   "version": "3.6.5"
  }
 },
 "nbformat": 4,
 "nbformat_minor": 2
}
