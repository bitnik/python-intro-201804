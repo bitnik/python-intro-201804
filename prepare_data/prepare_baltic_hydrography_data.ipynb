{
 "cells": [
  {
   "cell_type": "code",
   "execution_count": 2,
   "metadata": {},
   "outputs": [],
   "source": [
    "from pathlib import Path\n",
    "import xarray as xr"
   ]
  },
  {
   "cell_type": "code",
   "execution_count": 3,
   "metadata": {},
   "outputs": [],
   "source": [
    "data_path = Path(\"/sfs/fs1/work-geomar3/smomw091/BalticSea/\")"
   ]
  },
  {
   "cell_type": "code",
   "execution_count": 4,
   "metadata": {},
   "outputs": [
    {
     "name": "stdout",
     "output_type": "stream",
     "text": [
      "total 15G\r\n",
      "drwxr-xr-x  7 smomw091 smomw  84K Feb 16 13:24 \u001b[0m\u001b[01;34m.\u001b[0m/\r\n",
      "drwxr-xr-x 30 smomw091 smomw 168K Feb  2 10:36 \u001b[01;34m..\u001b[0m/\r\n",
      "drwxr-xr-x  3 smomw091 smomw 8.0K May 22  2017 \u001b[01;34masc\u001b[0m/\r\n",
      "-rw-r--r--  1 smomw091 smomw 3.5G Feb 16 10:58 INSPIRE_1979_2016_daily_oce_BSALT.nc\r\n",
      "-rw-r--r--  1 smomw091 smomw 3.8G Feb 16 10:58 INSPIRE_1979_2016_daily_oce_BTEMP.nc\r\n",
      "-rw-r--r--  1 smomw091 smomw 3.4G Feb 16 13:24 INSPIRE_1979_2016_daily_oce_SSS.nc\r\n",
      "-rw-r--r--  1 smomw091 smomw 3.6G Feb 15 18:32 INSPIRE_1979_2016_daily_oce_SST.nc\r\n",
      "-rw-r--r--  1 smomw091 smomw 120M Feb 16 10:54 INSPIRE_1979_2016_monthly_oce_BSALT.nc\r\n",
      "-rw-r--r--  1 smomw091 smomw 132M Feb 16 08:30 INSPIRE_1979_2016_monthly_oce_BTEMP.nc\r\n",
      "-rw-r--r--  1 smomw091 smomw 115M Feb 16 13:20 INSPIRE_1979_2016_monthly_oce_SSS.nc\r\n",
      "-rw-r--r--  1 smomw091 smomw 122M Feb 15 18:27 INSPIRE_1979_2016_monthly_oce_SST.nc\r\n",
      "drwxr-xr-x  2 smomw091 smomw 260K Feb  9  2017 \u001b[01;34mlogs\u001b[0m/\r\n",
      "drwxr-xr-x 11 smomw091 smomw  60K May 12  2017 \u001b[01;34mnc\u001b[0m/\r\n",
      "drwxr-xr-x  4 smomw091 smomw  76K May 24  2017 \u001b[01;34mscripts\u001b[0m/\r\n",
      "drwxr-xr-x 42 smomw091 smomw 164K May 10  2017 \u001b[01;34mwork\u001b[0m/\r\n"
     ]
    }
   ],
   "source": [
    "ls -lah {str(data_path)}"
   ]
  },
  {
   "cell_type": "code",
   "execution_count": 5,
   "metadata": {},
   "outputs": [
    {
     "name": "stdout",
     "output_type": "stream",
     "text": [
      "[PosixPath('/sfs/fs1/work-geomar3/smomw091/BalticSea/INSPIRE_1979_2016_monthly_oce_BSALT.nc'), PosixPath('/sfs/fs1/work-geomar3/smomw091/BalticSea/INSPIRE_1979_2016_monthly_oce_BTEMP.nc'), PosixPath('/sfs/fs1/work-geomar3/smomw091/BalticSea/INSPIRE_1979_2016_monthly_oce_SSS.nc'), PosixPath('/sfs/fs1/work-geomar3/smomw091/BalticSea/INSPIRE_1979_2016_monthly_oce_SST.nc')]\n"
     ]
    }
   ],
   "source": [
    "# get all data files\n",
    "data_files = list(sorted(data_path.glob(\"INSPIRE_*_monthly_*.nc\")))\n",
    "print(data_files)"
   ]
  },
  {
   "cell_type": "code",
   "execution_count": 6,
   "metadata": {},
   "outputs": [
    {
     "data": {
      "text/plain": [
       "<xarray.Dataset>\n",
       "Dimensions:  (lat: 538, lon: 586, time: 456)\n",
       "Coordinates:\n",
       "  * lon      (lon) float32 4.0275 4.0725 4.1175 4.1625 4.2075 4.2525 4.2975 ...\n",
       "  * lat      (lat) float32 53.8225 53.845 53.8675 53.89 53.9125 53.935 ...\n",
       "  * time     (time) datetime64[ns] 1979-01-31T12:00:00 1979-02-28T12:00:00 ...\n",
       "Data variables:\n",
       "    BTEMP    (time, lat, lon) float64 dask.array<shape=(456, 538, 586), chunksize=(456, 538, 586)>\n",
       "    SSS      (time, lat, lon) float64 dask.array<shape=(456, 538, 586), chunksize=(456, 538, 586)>\n",
       "    BSALT    (time, lat, lon) float64 dask.array<shape=(456, 538, 586), chunksize=(456, 538, 586)>\n",
       "    SST      (time, lat, lon) float64 dask.array<shape=(456, 538, 586), chunksize=(456, 538, 586)>"
      ]
     },
     "execution_count": 6,
     "metadata": {},
     "output_type": "execute_result"
    }
   ],
   "source": [
    "# open all files in a single data set\n",
    "ds = xr.open_mfdataset(data_files)\n",
    "\n",
    "# remove depth dim and rename dims to shorter standard names\n",
    "ds = ds.squeeze()\n",
    "ds = ds.rename({\"latitude_ts\": \"lat\", \"longitude_ts\": \"lon\"})\n",
    "del(ds.coords[\"depth\"])\n",
    "\n",
    "# remove global attributes\n",
    "for k in list(ds.attrs.keys()):\n",
    "    del(ds.attrs[k])\n",
    "\n",
    "ds"
   ]
  },
  {
   "cell_type": "code",
   "execution_count": 7,
   "metadata": {},
   "outputs": [
    {
     "name": "stderr",
     "output_type": "stream",
     "text": [
      "/gpfs/fs6/home-geomar/smomw122/TM/software/miniconda3_20180110/envs/py3_std/lib/python3.5/site-packages/xarray/core/common.py:594: FutureWarning: pd.TimeGrouper is deprecated and will be removed; Please use pd.Grouper(freq=...)\n",
      "  label=label, base=base)\n"
     ]
    }
   ],
   "source": [
    "# calculate annual means (not caring for length of months ...)\n",
    "ds_am = ds.resample(time=\"1Y\").mean()"
   ]
  },
  {
   "cell_type": "code",
   "execution_count": 8,
   "metadata": {},
   "outputs": [],
   "source": [
    "# make all vars 32-Bit (from 64) and remove unwanted attributes\n",
    "for v in ds_am.variables:\n",
    "    if v not in ds_am.coords:\n",
    "        ds_am[v] = ds_am[v].astype(\"float32\")\n",
    "        for keep_att in [\"long_name\", \"units\"]:\n",
    "            ds_am[v].attrs[keep_att] = ds[v].attrs[keep_att]"
   ]
  },
  {
   "cell_type": "code",
   "execution_count": null,
   "metadata": {},
   "outputs": [
    {
     "name": "stdout",
     "output_type": "stream",
     "text": [
      "<xarray.DataArray 'time' (time: 38)>\n",
      "array(['1979-12-31T00:00:00.000000000', '1980-12-31T00:00:00.000000000',\n",
      "       '1981-12-31T00:00:00.000000000', '1982-12-31T00:00:00.000000000',\n",
      "       '1983-12-31T00:00:00.000000000', '1984-12-31T00:00:00.000000000',\n",
      "       '1985-12-31T00:00:00.000000000', '1986-12-31T00:00:00.000000000',\n",
      "       '1987-12-31T00:00:00.000000000', '1988-12-31T00:00:00.000000000',\n",
      "       '1989-12-31T00:00:00.000000000', '1990-12-31T00:00:00.000000000',\n",
      "       '1991-12-31T00:00:00.000000000', '1992-12-31T00:00:00.000000000',\n",
      "       '1993-12-31T00:00:00.000000000', '1994-12-31T00:00:00.000000000',\n",
      "       '1995-12-31T00:00:00.000000000', '1996-12-31T00:00:00.000000000',\n",
      "       '1997-12-31T00:00:00.000000000', '1998-12-31T00:00:00.000000000',\n",
      "       '1999-12-31T00:00:00.000000000', '2000-12-31T00:00:00.000000000',\n",
      "       '2001-12-31T00:00:00.000000000', '2002-12-31T00:00:00.000000000',\n",
      "       '2003-12-31T00:00:00.000000000', '2004-12-31T00:00:00.000000000',\n",
      "       '2005-12-31T00:00:00.000000000', '2006-12-31T00:00:00.000000000',\n",
      "       '2007-12-31T00:00:00.000000000', '2008-12-31T00:00:00.000000000',\n",
      "       '2009-12-31T00:00:00.000000000', '2010-12-31T00:00:00.000000000',\n",
      "       '2011-12-31T00:00:00.000000000', '2012-12-31T00:00:00.000000000',\n",
      "       '2013-12-31T00:00:00.000000000', '2014-12-31T00:00:00.000000000',\n",
      "       '2015-12-31T00:00:00.000000000', '2016-12-31T00:00:00.000000000'], dtype='datetime64[ns]')\n",
      "Coordinates:\n",
      "  * time     (time) datetime64[ns] 1979-12-31 1980-12-31 1981-12-31 ... \n",
      "=======\n",
      "\n",
      "<xarray.DataArray 'lon' (lon: 586)>\n",
      "array([  4.0275  ,   4.0725  ,   4.1175  , ...,  30.262501,  30.307501,\n",
      "        30.352501], dtype=float32)\n",
      "Coordinates:\n",
      "  * lon      (lon) float32 4.0275 4.0725 4.1175 4.1625 4.2075 4.2525 4.2975 ...\n",
      "Attributes:\n",
      "    standard_name:  longitude\n",
      "    long_name:      longitude [Tracer grid]\n",
      "    units:          degrees_east\n",
      "    axis:           X \n",
      "=======\n",
      "\n",
      "<xarray.DataArray 'lat' (lat: 538)>\n",
      "array([ 53.822498,  53.845001,  53.8675  , ...,  65.860001,  65.8825  ,\n",
      "        65.904999], dtype=float32)\n",
      "Coordinates:\n",
      "  * lat      (lat) float32 53.8225 53.845 53.8675 53.89 53.9125 53.935 ...\n",
      "Attributes:\n",
      "    standard_name:  latitude\n",
      "    long_name:      Latitude  [Tracer grid]\n",
      "    units:          degrees_north\n",
      "    axis:           Y \n",
      "=======\n",
      "\n",
      "<xarray.DataArray 'BTEMP' (time: 38, lat: 538, lon: 586)>\n",
      "dask.array<shape=(38, 538, 586), dtype=float32, chunksize=(1, 538, 586)>\n",
      "Coordinates:\n",
      "  * time     (time) datetime64[ns] 1979-12-31 1980-12-31 1981-12-31 ...\n",
      "  * lon      (lon) float32 4.0275 4.0725 4.1175 4.1625 4.2075 4.2525 4.2975 ...\n",
      "  * lat      (lat) float32 53.8225 53.845 53.8675 53.89 53.9125 53.935 ...\n",
      "Attributes:\n",
      "    long_name:  Bottom temperature\n",
      "    units:      degree Celsius \n",
      "=======\n",
      "\n",
      "<xarray.DataArray 'SSS' (time: 38, lat: 538, lon: 586)>\n",
      "dask.array<shape=(38, 538, 586), dtype=float32, chunksize=(1, 538, 586)>\n",
      "Coordinates:\n",
      "  * time     (time) datetime64[ns] 1979-12-31 1980-12-31 1981-12-31 ...\n",
      "  * lon      (lon) float32 4.0275 4.0725 4.1175 4.1625 4.2075 4.2525 4.2975 ...\n",
      "  * lat      (lat) float32 53.8225 53.845 53.8675 53.89 53.9125 53.935 ...\n",
      "Attributes:\n",
      "    long_name:  Salinity\n",
      "    units:      psu \n",
      "=======\n",
      "\n",
      "<xarray.DataArray 'BSALT' (time: 38, lat: 538, lon: 586)>\n",
      "dask.array<shape=(38, 538, 586), dtype=float32, chunksize=(1, 538, 586)>\n",
      "Coordinates:\n",
      "  * time     (time) datetime64[ns] 1979-12-31 1980-12-31 1981-12-31 ...\n",
      "  * lon      (lon) float32 4.0275 4.0725 4.1175 4.1625 4.2075 4.2525 4.2975 ...\n",
      "  * lat      (lat) float32 53.8225 53.845 53.8675 53.89 53.9125 53.935 ...\n",
      "Attributes:\n",
      "    long_name:  Bottom salinity\n",
      "    units:      psu \n",
      "=======\n",
      "\n",
      "<xarray.DataArray 'SST' (time: 38, lat: 538, lon: 586)>\n",
      "dask.array<shape=(38, 538, 586), dtype=float32, chunksize=(1, 538, 586)>\n",
      "Coordinates:\n",
      "  * time     (time) datetime64[ns] 1979-12-31 1980-12-31 1981-12-31 ...\n",
      "  * lon      (lon) float32 4.0275 4.0725 4.1175 4.1625 4.2075 4.2525 4.2975 ...\n",
      "  * lat      (lat) float32 53.8225 53.845 53.8675 53.89 53.9125 53.935 ...\n",
      "Attributes:\n",
      "    long_name:  Temperature\n",
      "    units:      degree Celsius \n",
      "=======\n",
      "\n"
     ]
    }
   ],
   "source": [
    "for v in ds_am.variables:\n",
    "    print(ds_am[v], \"\\n=======\\n\")"
   ]
  },
  {
   "cell_type": "code",
   "execution_count": null,
   "metadata": {},
   "outputs": [
    {
     "name": "stderr",
     "output_type": "stream",
     "text": [
      "/gpfs/fs6/home-geomar/smomw122/TM/software/miniconda3_20180110/envs/py3_std/lib/python3.5/site-packages/dask/array/numpy_compat.py:48: RuntimeWarning: invalid value encountered in true_divide\n",
      "  x = np.divide(x1, x2, out)\n"
     ]
    }
   ],
   "source": [
    "# We're still in lazy-evaluation mode.  Let's actually\n",
    "# compute the new resampled data before dropping it to disk.\n",
    "ds_am = ds_am.compute()"
   ]
  },
  {
   "cell_type": "code",
   "execution_count": null,
   "metadata": {},
   "outputs": [],
   "source": [
    "ds_am.attrs[\"history\"] = \"Created from monthly INSPIRE fields weighting all months equally.\""
   ]
  },
  {
   "cell_type": "code",
   "execution_count": null,
   "metadata": {},
   "outputs": [],
   "source": [
    "ds_am.to_netcdf(\"tmp_baltic.nc\", engine=\"scipy\")"
   ]
  },
  {
   "cell_type": "code",
   "execution_count": null,
   "metadata": {},
   "outputs": [],
   "source": [
    "# show the file on disk\n",
    "!ncdump -hs tmp_baltic.nc"
   ]
  },
  {
   "cell_type": "code",
   "execution_count": null,
   "metadata": {},
   "outputs": [],
   "source": [
    "# and copy to a deflated nc file\n",
    "!nccopy -7 -s -d1 \\\n",
    "    -c \"time/1,lat/269,lon/293\" \\\n",
    "    tmp_baltic.nc \\\n",
    "    INSPIRE_1979_2016_monthly_oce_surf_and_bottom_hydrograhy.nc"
   ]
  },
  {
   "cell_type": "code",
   "execution_count": null,
   "metadata": {},
   "outputs": [],
   "source": [
    "!ncdump -hs INSPIRE_1979_2016_monthly_oce_surf_and_bottom_hydrograhy.nc"
   ]
  },
  {
   "cell_type": "code",
   "execution_count": null,
   "metadata": {},
   "outputs": [],
   "source": [
    "!ls -lah INSPIRE_1979_2016_monthly_oce_surf_and_bottom_hydrograhy.nc"
   ]
  }
 ],
 "metadata": {
  "kernelspec": {
   "display_name": "SSH smomw122@nesh-fe1.rz.uni-kiel.de python_py3_std_/gpfs/fs6/home-geomar/smomw122/nb",
   "language": "",
   "name": "rik_ssh_smomw122_nesh_fe1_rz_uni_kiel_de_python_py3_std_gpfsfs6homegeomarsmomw122nb"
  },
  "language_info": {
   "codemirror_mode": {
    "name": "ipython",
    "version": 3
   },
   "file_extension": ".py",
   "mimetype": "text/x-python",
   "name": "python",
   "nbconvert_exporter": "python",
   "pygments_lexer": "ipython3",
   "version": "3.5.4"
  }
 },
 "nbformat": 4,
 "nbformat_minor": 2
}
